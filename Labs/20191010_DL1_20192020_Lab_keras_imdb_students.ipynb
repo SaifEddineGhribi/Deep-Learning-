{
 "cells": [
  {
   "cell_type": "markdown",
   "metadata": {
    "colab_type": "text",
    "id": "PBFqSEkKqpCN"
   },
   "source": [
    "# Lab Deep Learning/ Recurrent Neural Networks/ in keras\n",
    "\n",
    "## Using Many-to-One for movie rating predicton\n",
    "\n",
    "**Author: geoffroy.peeters@telecom-paris.fr**\n",
    "\n",
    "For any remark or suggestion, please feel free to contact me.\n",
    "\n",
    "## Objective:\n",
    "We will implement two different networks to perform automatic rating (0 or 1) of a movie given the text of its review.\n",
    "We will use the ```imdb``` (internet movie database) dataset.\n",
    "\n",
    "The reviews are already available in the form of indexes that point to a word dictionary: each word is already encoded as an index in the dictionary."
   ]
  },
  {
   "cell_type": "markdown",
   "metadata": {
    "colab_type": "text",
    "id": "QmkCSNaXLqjh"
   },
   "source": [
    "## Import packages"
   ]
  },
  {
   "cell_type": "code",
   "execution_count": 0,
   "metadata": {
    "colab": {},
    "colab_type": "code",
    "id": "AOqjzDwioJj9"
   },
   "outputs": [],
   "source": [
    "import numpy as np\n",
    "from keras.datasets import imdb\n",
    "from keras.models import Sequential\n",
    "from keras.preprocessing import sequence\n",
    "from keras.layers import Dense, Activation, Embedding, Dropout, Input, LSTM, Reshape, Lambda, RepeatVector\n",
    "from keras import Model\n",
    "from keras import backend as K\n",
    "import operator\n",
    "import warnings\n",
    "warnings.filterwarnings(\"ignore\")\n",
    "colab = True\n",
    "student = True"
   ]
  },
  {
   "cell_type": "markdown",
   "metadata": {
    "colab_type": "text",
    "id": "v5Yp4OQVvUtr"
   },
   "source": [
    "## Parameters of the model\n",
    "\n",
    "-  We only consider the ```top_words``` first words in the word dictionary\n",
    "- We truncate/zerp-pad each sequence a length ```max_review_length````"
   ]
  },
  {
   "cell_type": "code",
   "execution_count": 0,
   "metadata": {
    "colab": {},
    "colab_type": "code",
    "id": "4C_Pv7rYvRkM"
   },
   "outputs": [],
   "source": [
    "top_words = 5000 \n",
    "max_review_length = 100\n",
    "INDEX_FROM = 3"
   ]
  },
  {
   "cell_type": "markdown",
   "metadata": {
    "colab_type": "text",
    "id": "ZsNcRimyLzgP"
   },
   "source": [
    "## Import IMDB data"
   ]
  },
  {
   "cell_type": "code",
   "execution_count": 0,
   "metadata": {
    "colab": {},
    "colab_type": "code",
    "id": "5Gfe1ex8oN8Q"
   },
   "outputs": [],
   "source": [
    "# --- Import the IMDB data and only consider the ``top_words``` most used words\n",
    "if colab==True:\n",
    "    (X_train, y_train), (X_test, y_test) = imdb.load_data(num_words=5000, index_from=INDEX_FROM)\n",
    "else:\n",
    "    # --- IF USING GOOGLE.COLAB\n",
    "    # --- save np.load\n",
    "    np_load_old = np.load\n",
    "    # --- modify the default parameters of np.load\n",
    "#    np.load = lambda *a,**k: np_load_old(*a, allow_pickle=True, **k)\n",
    "    np.load.__defaults__ = (None,True,True,'ASCII')\n",
    "    # --- call load_data with allow_pickle implicitly set to true\n",
    "    (X_train, y_train), (X_test, y_test) = imdb.load_data(num_words=5000)\n",
    "    # --- restore np.load for future normal usage\n",
    "    np.load = np_load_old"
   ]
  },
  {
   "cell_type": "code",
   "execution_count": 0,
   "metadata": {
    "colab": {
     "base_uri": "https://localhost:8080/",
     "height": 53
    },
    "colab_type": "code",
    "executionInfo": {
     "elapsed": 6238,
     "status": "ok",
     "timestamp": 1571871736251,
     "user": {
      "displayName": "Ghribi Saif eddine",
      "photoUrl": "https://lh3.googleusercontent.com/a-/AAuE7mD7z26Oe5-lZzCboJXvkeojSIcJPcak5jPoWo3HVg=s64",
      "userId": "17019941870058284400"
     },
     "user_tz": -120
    },
    "id": "Ljzdx_z-_HMy",
    "outputId": "42d8c7a4-9f7c-49a8-db5b-121f2bd95b2f"
   },
   "outputs": [
    {
     "name": "stdout",
     "output_type": "stream",
     "text": [
      "[1, 14, 22, 16, 43, 530, 973, 1622, 1385, 65, 458, 4468, 66, 3941, 4, 173, 36, 256, 5, 25, 100, 43, 838, 112, 50, 670, 2, 9, 35, 480, 284, 5, 150, 4, 172, 112, 167, 2, 336, 385, 39, 4, 172, 4536, 1111, 17, 546, 38, 13, 447, 4, 192, 50, 16, 6, 147, 2025, 19, 14, 22, 4, 1920, 4613, 469, 4, 22, 71, 87, 12, 16, 43, 530, 38, 76, 15, 13, 1247, 4, 22, 17, 515, 17, 12, 16, 626, 18, 2, 5, 62, 386, 12, 8, 316, 8, 106, 5, 4, 2223, 2, 16, 480, 66, 3785, 33, 4, 130, 12, 16, 38, 619, 5, 25, 124, 51, 36, 135, 48, 25, 1415, 33, 6, 22, 12, 215, 28, 77, 52, 5, 14, 407, 16, 82, 2, 8, 4, 107, 117, 2, 15, 256, 4, 2, 7, 3766, 5, 723, 36, 71, 43, 530, 476, 26, 400, 317, 46, 7, 4, 2, 1029, 13, 104, 88, 4, 381, 15, 297, 98, 32, 2071, 56, 26, 141, 6, 194, 2, 18, 4, 226, 22, 21, 134, 476, 26, 480, 5, 144, 30, 2, 18, 51, 36, 28, 224, 92, 25, 104, 4, 226, 65, 16, 38, 1334, 88, 12, 16, 283, 5, 16, 4472, 113, 103, 32, 15, 16, 2, 19, 178, 32]\n"
     ]
    }
   ],
   "source": [
    "print(X_train[0])"
   ]
  },
  {
   "cell_type": "code",
   "execution_count": 0,
   "metadata": {
    "colab": {
     "base_uri": "https://localhost:8080/",
     "height": 53
    },
    "colab_type": "code",
    "executionInfo": {
     "elapsed": 6202,
     "status": "ok",
     "timestamp": 1571871736252,
     "user": {
      "displayName": "Ghribi Saif eddine",
      "photoUrl": "https://lh3.googleusercontent.com/a-/AAuE7mD7z26Oe5-lZzCboJXvkeojSIcJPcak5jPoWo3HVg=s64",
      "userId": "17019941870058284400"
     },
     "user_tz": -120
    },
    "id": "UEpzyFNX_HM0",
    "outputId": "cc0fb2f1-345d-4b0e-ac5c-4ffac04b99f1"
   },
   "outputs": [
    {
     "name": "stdout",
     "output_type": "stream",
     "text": [
      "[1, 14, 22, 16, 43, 530, 973, 1622, 1385, 65, 458, 4468, 66, 3941, 4, 173, 36, 256, 5, 25, 100, 43, 838, 112, 50, 670, 2, 9, 35, 480, 284, 5, 150, 4, 172, 112, 167, 2, 336, 385, 39, 4, 172, 4536, 1111, 17, 546, 38, 13, 447, 4, 192, 50, 16, 6, 147, 2025, 19, 14, 22, 4, 1920, 4613, 469, 4, 22, 71, 87, 12, 16, 43, 530, 38, 76, 15, 13, 1247, 4, 22, 17, 515, 17, 12, 16, 626, 18, 2, 5, 62, 386, 12, 8, 316, 8, 106, 5, 4, 2223, 2, 16, 480, 66, 3785, 33, 4, 130, 12, 16, 38, 619, 5, 25, 124, 51, 36, 135, 48, 25, 1415, 33, 6, 22, 12, 215, 28, 77, 52, 5, 14, 407, 16, 82, 2, 8, 4, 107, 117, 2, 15, 256, 4, 2, 7, 3766, 5, 723, 36, 71, 43, 530, 476, 26, 400, 317, 46, 7, 4, 2, 1029, 13, 104, 88, 4, 381, 15, 297, 98, 32, 2071, 56, 26, 141, 6, 194, 2, 18, 4, 226, 22, 21, 134, 476, 26, 480, 5, 144, 30, 2, 18, 51, 36, 28, 224, 92, 25, 104, 4, 226, 65, 16, 38, 1334, 88, 12, 16, 283, 5, 16, 4472, 113, 103, 32, 15, 16, 2, 19, 178, 32]\n"
     ]
    }
   ],
   "source": [
    "print(X_train[0])"
   ]
  },
  {
   "cell_type": "code",
   "execution_count": 0,
   "metadata": {
    "colab": {
     "base_uri": "https://localhost:8080/",
     "height": 33
    },
    "colab_type": "code",
    "executionInfo": {
     "elapsed": 6171,
     "status": "ok",
     "timestamp": 1571871736253,
     "user": {
      "displayName": "Ghribi Saif eddine",
      "photoUrl": "https://lh3.googleusercontent.com/a-/AAuE7mD7z26Oe5-lZzCboJXvkeojSIcJPcak5jPoWo3HVg=s64",
      "userId": "17019941870058284400"
     },
     "user_tz": -120
    },
    "id": "nNV_EQVQ6oDi",
    "outputId": "fc8dfa3f-8484-480f-cc94-b6c6abee1153"
   },
   "outputs": [
    {
     "data": {
      "text/plain": [
       "(25000,)"
      ]
     },
     "execution_count": 26,
     "metadata": {
      "tags": []
     },
     "output_type": "execute_result"
    }
   ],
   "source": [
    "np.shape(X_train)"
   ]
  },
  {
   "cell_type": "markdown",
   "metadata": {
    "colab_type": "text",
    "id": "iSc5LmksOLyr"
   },
   "source": [
    "## Data content\n",
    "\n",
    "- ```X_train``` and ```X_test``` are numpy arrays of lists. \n",
    "  - each item in a list is the index in the word dictionary. So that a list is the sequence of index of words.\n",
    "\n",
    "- ```y_train``` and ```y_test``` are a numpy arrays of the same dimension as ```X_train``` and ```X_test``` \n",
    "  - they contains the values 0 (bad movie) or 1 (good movie)"
   ]
  },
  {
   "cell_type": "code",
   "execution_count": 0,
   "metadata": {
    "colab": {
     "base_uri": "https://localhost:8080/",
     "height": 402
    },
    "colab_type": "code",
    "executionInfo": {
     "elapsed": 6763,
     "status": "ok",
     "timestamp": 1571871736880,
     "user": {
      "displayName": "Ghribi Saif eddine",
      "photoUrl": "https://lh3.googleusercontent.com/a-/AAuE7mD7z26Oe5-lZzCboJXvkeojSIcJPcak5jPoWo3HVg=s64",
      "userId": "17019941870058284400"
     },
     "user_tz": -120
    },
    "id": "WouODCPrtiuu",
    "outputId": "00942332-7507-4642-b277-08b59a0d4bac"
   },
   "outputs": [
    {
     "name": "stdout",
     "output_type": "stream",
     "text": [
      "type(X_train): <class 'numpy.ndarray'>\n",
      "number of training sequences: X_train.shape: (25000,)\n",
      "type(X_train[0]): <class 'list'>\n",
      "length of the first training sequence: len(X_train[0]): 218\n",
      "length of the second training sequence: len(X_train[1]): 189\n",
      "list of data of the first training sequence: X_train[0]: [1, 14, 22, 16, 43, 530, 973, 1622, 1385, 65, 458, 4468, 66, 3941, 4, 173, 36, 256, 5, 25, 100, 43, 838, 112, 50, 670, 2, 9, 35, 480, 284, 5, 150, 4, 172, 112, 167, 2, 336, 385, 39, 4, 172, 4536, 1111, 17, 546, 38, 13, 447, 4, 192, 50, 16, 6, 147, 2025, 19, 14, 22, 4, 1920, 4613, 469, 4, 22, 71, 87, 12, 16, 43, 530, 38, 76, 15, 13, 1247, 4, 22, 17, 515, 17, 12, 16, 626, 18, 2, 5, 62, 386, 12, 8, 316, 8, 106, 5, 4, 2223, 2, 16, 480, 66, 3785, 33, 4, 130, 12, 16, 38, 619, 5, 25, 124, 51, 36, 135, 48, 25, 1415, 33, 6, 22, 12, 215, 28, 77, 52, 5, 14, 407, 16, 82, 2, 8, 4, 107, 117, 2, 15, 256, 4, 2, 7, 3766, 5, 723, 36, 71, 43, 530, 476, 26, 400, 317, 46, 7, 4, 2, 1029, 13, 104, 88, 4, 381, 15, 297, 98, 32, 2071, 56, 26, 141, 6, 194, 2, 18, 4, 226, 22, 21, 134, 476, 26, 480, 5, 144, 30, 2, 18, 51, 36, 28, 224, 92, 25, 104, 4, 226, 65, 16, 38, 1334, 88, 12, 16, 283, 5, 16, 4472, 113, 103, 32, 15, 16, 2, 19, 178, 32]\n",
      "maximum length of a training sequence: 2494\n"
     ]
    },
    {
     "data": {
      "image/png": "[encoded data removed]",
      "text/plain": [
       "<Figure size 432x288 with 1 Axes>"
      ]
     },
     "metadata": {
      "tags": []
     },
     "output_type": "display_data"
    }
   ],
   "source": [
    "print(\"type(X_train):\", type(X_train))\n",
    "print(\"number of training sequences: X_train.shape:\", X_train.shape)\n",
    "print(\"type(X_train[0]):\",type(X_train[0]))\n",
    "print(\"length of the first training sequence: len(X_train[0]):\",len(X_train[0]))\n",
    "print(\"length of the second training sequence: len(X_train[1]):\",len(X_train[1]))\n",
    "print(\"list of data of the first training sequence: X_train[0]:\", X_train[0] )\n",
    "len_list = [len(train) for train in X_train]\n",
    "print(\"maximum length of a training sequence:\", max(len_list))\n",
    "import matplotlib.pyplot as plt\n",
    "plt.hist(len_list, 100);"
   ]
  },
  {
   "cell_type": "markdown",
   "metadata": {
    "colab_type": "text",
    "id": "2I-cEKUh_HM4"
   },
   "source": [
    "## Details of how the reviews are encoded"
   ]
  },
  {
   "cell_type": "code",
   "execution_count": 0,
   "metadata": {
    "colab": {
     "base_uri": "https://localhost:8080/",
     "height": 53
    },
    "colab_type": "code",
    "executionInfo": {
     "elapsed": 6742,
     "status": "ok",
     "timestamp": 1571871736882,
     "user": {
      "displayName": "Ghribi Saif eddine",
      "photoUrl": "https://lh3.googleusercontent.com/a-/AAuE7mD7z26Oe5-lZzCboJXvkeojSIcJPcak5jPoWo3HVg=s64",
      "userId": "17019941870058284400"
     },
     "user_tz": -120
    },
    "id": "XcOwiMUT_HM5",
    "outputId": "e49cc204-99d2-4ec1-caf0-6b0b43368945"
   },
   "outputs": [
    {
     "name": "stdout",
     "output_type": "stream",
     "text": [
      "<START> although i had seen <UNK> in a theater way back in <UNK> i couldn't remember anything of the plot except for vague images of kurt thomas running and fighting against a backdrop of stone walls and disappointment regarding the ending br br after reading some of the other reviews i picked up a copy of the newly released dvd to once again enter the world of <UNK> br br it turns out this is one of those films produced during the <UNK> that would go directly to video today the film stars <UNK> <UNK> kurt thomas as jonathan <UNK> <UNK> out of the blue to <UNK> the nation of <UNK> to enter and hopefully win the game a <UNK> <UNK> <UNK> by the khan who <UNK> his people by yelling what sounds like <UNK> power the goal of the mission involves the star wars defense system jonathan is trained in the martial arts by princess <UNK> who never speaks or leaves the house once trained tries to blend in with the <UNK> by wearing a bright red <UNK> with <UNK> of blue and white needless to say <UNK> finds himself running and fighting for his life along the stone streets of <UNK> on his way to a date with destiny and the game br br star kurt thomas was ill served by director robert <UNK> who it looks like was never on the set the so called script is just this side of incompetent see other reviews for the many <UNK> throughout the town of <UNK> has a few good moments but is ultimately ruined by bad editing the ending <UNK> still there's the <UNK> of a good action adventure here a hong kong version with more <UNK> action and faster pace might even be pretty good\n"
     ]
    }
   ],
   "source": [
    "word_to_id = imdb.get_word_index()\n",
    "word_to_id = {k:(v+INDEX_FROM) for k,v in word_to_id.items()}\n",
    "word_to_id[\"<PAD>\"] = 0\n",
    "word_to_id[\"<START>\"] = 1\n",
    "word_to_id[\"<UNK>\"] = 2\n",
    "\n",
    "id_to_word = {value:key for key,value in word_to_id.items()}\n",
    "print(' '.join(id_to_word[id] for id in X_train[1000] ))"
   ]
  },
  {
   "cell_type": "code",
   "execution_count": 0,
   "metadata": {
    "colab": {
     "base_uri": "https://localhost:8080/",
     "height": 50
    },
    "colab_type": "code",
    "executionInfo": {
     "elapsed": 6700,
     "status": "ok",
     "timestamp": 1571871736884,
     "user": {
      "displayName": "Ghribi Saif eddine",
      "photoUrl": "https://lh3.googleusercontent.com/a-/AAuE7mD7z26Oe5-lZzCboJXvkeojSIcJPcak5jPoWo3HVg=s64",
      "userId": "17019941870058284400"
     },
     "user_tz": -120
    },
    "id": "Hfl42LGCugWB",
    "outputId": "0910d523-fed2-407a-d53d-adc8cb88f45f"
   },
   "outputs": [
    {
     "name": "stdout",
     "output_type": "stream",
     "text": [
      "type(y_train): <class 'numpy.ndarray'>\n",
      "y_train.shape: (25000,)\n"
     ]
    }
   ],
   "source": [
    "print(\"type(y_train):\", type(y_train))\n",
    "print(\"y_train.shape:\", y_train.shape)"
   ]
  },
  {
   "cell_type": "code",
   "execution_count": 0,
   "metadata": {
    "colab": {
     "base_uri": "https://localhost:8080/",
     "height": 50
    },
    "colab_type": "code",
    "executionInfo": {
     "elapsed": 6666,
     "status": "ok",
     "timestamp": 1571871736885,
     "user": {
      "displayName": "Ghribi Saif eddine",
      "photoUrl": "https://lh3.googleusercontent.com/a-/AAuE7mD7z26Oe5-lZzCboJXvkeojSIcJPcak5jPoWo3HVg=s64",
      "userId": "17019941870058284400"
     },
     "user_tz": -120
    },
    "id": "iVw65PNNuobX",
    "outputId": "035992a7-18d3-46c1-fe7f-67bfb22db6eb"
   },
   "outputs": [
    {
     "name": "stdout",
     "output_type": "stream",
     "text": [
      "X_test.shape: (25000,)\n",
      "y_test.shape: (25000,)\n"
     ]
    }
   ],
   "source": [
    "print(\"X_test.shape:\", X_test.shape)\n",
    "print(\"y_test.shape:\", y_test.shape)"
   ]
  },
  {
   "cell_type": "markdown",
   "metadata": {
    "colab_type": "text",
    "id": "V18OA7oQNH3c"
   },
   "source": [
    "## Data processing\n",
    "\n",
    "Sequences (represented as a list of values) in ```X_train``` represent the reviews.\n",
    "They can have different length.\n",
    "To train the network we should modify them so that they all have the same length.\n",
    "We do this by:\n",
    "- truncating the ones that are too long\n",
    "- padding-with-zero them the ones that are too short.\n",
    "\n",
    "This is obtained using ```sequence.pad_sequences``` of keras."
   ]
  },
  {
   "cell_type": "code",
   "execution_count": 0,
   "metadata": {
    "colab": {
     "base_uri": "https://localhost:8080/",
     "height": 180
    },
    "colab_type": "code",
    "executionInfo": {
     "elapsed": 7637,
     "status": "ok",
     "timestamp": 1571871737898,
     "user": {
      "displayName": "Ghribi Saif eddine",
      "photoUrl": "https://lh3.googleusercontent.com/a-/AAuE7mD7z26Oe5-lZzCboJXvkeojSIcJPcak5jPoWo3HVg=s64",
      "userId": "17019941870058284400"
     },
     "user_tz": -120
    },
    "id": "JhmiHsOGoRwT",
    "outputId": "72f54a6f-7759-4792-d748-07a820571087"
   },
   "outputs": [
    {
     "name": "stdout",
     "output_type": "stream",
     "text": [
      "len(X_train[0]): 100\n",
      "len(X_train[1]): 100\n",
      "X_train[0]: [1415   33    6   22   12  215   28   77   52    5   14  407   16   82\n",
      "    2    8    4  107  117    2   15  256    4    2    7 3766    5  723\n",
      "   36   71   43  530  476   26  400  317   46    7    4    2 1029   13\n",
      "  104   88    4  381   15  297   98   32 2071   56   26  141    6  194\n",
      "    2   18    4  226   22   21  134  476   26  480    5  144   30    2\n",
      "   18   51   36   28  224   92   25  104    4  226   65   16   38 1334\n",
      "   88   12   16  283    5   16 4472  113  103   32   15   16    2   19\n",
      "  178   32]\n"
     ]
    }
   ],
   "source": [
    "# --- truncate and pad input sequences\n",
    "\n",
    "if student:\n",
    "    # --- START CODE HERE (01)\n",
    "    X_train =sequence.pad_sequences(X_train,max_review_length)\n",
    "    X_test = sequence.pad_sequences(X_test,max_review_length)\n",
    "    # --- END CODE HERE\n",
    "\n",
    "print(\"len(X_train[0]):\", len(X_train[0]))\n",
    "print(\"len(X_train[1]):\", len(X_train[1]))\n",
    "print(\"X_train[0]:\", X_train[0])"
   ]
  },
  {
   "cell_type": "markdown",
   "metadata": {
    "colab_type": "text",
    "id": "YlrDTuk5K65Q"
   },
   "source": [
    "# First model\n",
    "\n",
    "In the first model, we will simply \n",
    "- learn a word embedding  (```Embedding``` layer in keras) and apply it to each item of the sequence, \n",
    "  -  in keras, embedding is not a matrix going from one-hot-encoding to embedding, but is a layer that goes from index-in-word-dictionary to embedding\n",
    "  - the embedding goes from ```top_words``` dimensions to  ```embedding_vector_length``` dimensions\n",
    "- average the embedding obtained for each word of a sequence over all words of the sequence (you should use ```K.mean``` and ```Lambda``` from the keras backend)\n",
    "- apply a fully connected (```Dense``` layer in keras) which output activation is a sigmoid (predicting the 0 or 1 rating)\n",
    "\n",
    "We will code this model \n",
    "- First, using the Sequential API of keras (https://keras.io/models/sequential/)\n",
    "- Secondly, using the Functional API of keras (https://keras.io/getting-started/functional-api-guide/)\n"
   ]
  },
  {
   "cell_type": "code",
   "execution_count": 0,
   "metadata": {
    "colab": {},
    "colab_type": "code",
    "id": "ufW00TGcs3Jj"
   },
   "outputs": [],
   "source": [
    "K.clear_session()"
   ]
  },
  {
   "cell_type": "code",
   "execution_count": 0,
   "metadata": {
    "colab": {
     "base_uri": "https://localhost:8080/",
     "height": 293
    },
    "colab_type": "code",
    "executionInfo": {
     "elapsed": 7569,
     "status": "ok",
     "timestamp": 1571871737900,
     "user": {
      "displayName": "Ghribi Saif eddine",
      "photoUrl": "https://lh3.googleusercontent.com/a-/AAuE7mD7z26Oe5-lZzCboJXvkeojSIcJPcak5jPoWo3HVg=s64",
      "userId": "17019941870058284400"
     },
     "user_tz": -120
    },
    "id": "zspaUptgtW9l",
    "outputId": "fbcfabf0-0c88-4caf-9b4a-61410d39aefd"
   },
   "outputs": [
    {
     "name": "stdout",
     "output_type": "stream",
     "text": [
      "Model: \"model_1\"\n",
      "_________________________________________________________________\n",
      "Layer (type)                 Output Shape              Param #   \n",
      "=================================================================\n",
      "Input (InputLayer)           (None, 100)               0         \n",
      "_________________________________________________________________\n",
      "Embedding_layer (Embedding)  (None, 100, 32)           160000    \n",
      "_________________________________________________________________\n",
      "Lambdalayer (Lambda)         (None, 32)                0         \n",
      "_________________________________________________________________\n",
      "dense_2 (Dense)              (None, 1)                 33        \n",
      "=================================================================\n",
      "Total params: 160,033\n",
      "Trainable params: 160,033\n",
      "Non-trainable params: 0\n",
      "_________________________________________________________________\n",
      "None\n"
     ]
    }
   ],
   "source": [
    "# --- create the model\n",
    "embedding_vector_length = 32\n",
    "\n",
    "# CODE-RNN1-2\n",
    "if student:\n",
    "    # --- START CODE HERE (02)\n",
    "    # --- Using the Sequential API\n",
    "    model = Sequential()\n",
    "    model.add(Embedding(top_words,embedding_vector_length))\n",
    "    model.add(Lambda(lambda x: K.mean(x, axis=1)))\n",
    "    model.add(Dense(1, input_dim=X_train.shape[0], activation='sigmoid'))\n",
    "    \n",
    "    # --- END CODE HERE\n",
    "    \n",
    "    # --- START CODE HERE (03)\n",
    "    # --- Using the Functional API\n",
    "    X_input = Input( shape = (max_review_length,) , name='Input' )\n",
    "    X  = Embedding  (top_words,embedding_vector_length , name =\"Embedding_layer\")( X_input )\n",
    "    X = Lambda(lambda x: K.mean(x, axis=1),name=\"Lambdalayer\")(X)\n",
    "    X_output = Dense(1, input_dim=X_train.shape[0], activation='sigmoid')(X)\n",
    "    model = Model(inputs = X_input , outputs = X_output )\n",
    "\n",
    "    # --- END CODE HERE\n",
    "  \n",
    "print(model.summary())"
   ]
  },
  {
   "cell_type": "markdown",
   "metadata": {
    "colab_type": "text",
    "id": "SBqyzLJRUIsC"
   },
   "source": [
    "## Results\n",
    "\n",
    "After only 3 epochs, you should obtain an accuracy around 84% for the test data."
   ]
  },
  {
   "cell_type": "code",
   "execution_count": 0,
   "metadata": {
    "colab": {
     "base_uri": "https://localhost:8080/",
     "height": 375
    },
    "colab_type": "code",
    "executionInfo": {
     "elapsed": 32856,
     "status": "ok",
     "timestamp": 1571871763234,
     "user": {
      "displayName": "Ghribi Saif eddine",
      "photoUrl": "https://lh3.googleusercontent.com/a-/AAuE7mD7z26Oe5-lZzCboJXvkeojSIcJPcak5jPoWo3HVg=s64",
      "userId": "17019941870058284400"
     },
     "user_tz": -120
    },
    "id": "nCALyP-Q_HNH",
    "outputId": "1faa2e08-3239-4a6c-f388-773d3ff6ada2"
   },
   "outputs": [
    {
     "name": "stdout",
     "output_type": "stream",
     "text": [
      "Train on 25000 samples, validate on 25000 samples\n",
      "Epoch 1/10\n",
      "25000/25000 [==============================] - 3s 108us/step - loss: 0.6387 - acc: 0.7249 - val_loss: 0.5631 - val_acc: 0.7754\n",
      "Epoch 2/10\n",
      "25000/25000 [==============================] - 2s 99us/step - loss: 0.4871 - acc: 0.8137 - val_loss: 0.4400 - val_acc: 0.8216\n",
      "Epoch 3/10\n",
      "25000/25000 [==============================] - 3s 100us/step - loss: 0.3943 - acc: 0.8446 - val_loss: 0.3852 - val_acc: 0.8367\n",
      "Epoch 4/10\n",
      "25000/25000 [==============================] - 2s 97us/step - loss: 0.3473 - acc: 0.8594 - val_loss: 0.3593 - val_acc: 0.8435\n",
      "Epoch 5/10\n",
      "25000/25000 [==============================] - 2s 100us/step - loss: 0.3189 - acc: 0.8714 - val_loss: 0.3454 - val_acc: 0.8483\n",
      "Epoch 6/10\n",
      "25000/25000 [==============================] - 2s 99us/step - loss: 0.2991 - acc: 0.8780 - val_loss: 0.3382 - val_acc: 0.8505\n",
      "Epoch 7/10\n",
      "25000/25000 [==============================] - 2s 100us/step - loss: 0.2845 - acc: 0.8840 - val_loss: 0.3357 - val_acc: 0.8515\n",
      "Epoch 8/10\n",
      "25000/25000 [==============================] - 2s 99us/step - loss: 0.2729 - acc: 0.8888 - val_loss: 0.3340 - val_acc: 0.8533\n",
      "Epoch 9/10\n",
      "25000/25000 [==============================] - 3s 100us/step - loss: 0.2634 - acc: 0.8927 - val_loss: 0.3350 - val_acc: 0.8546\n",
      "Epoch 10/10\n",
      "25000/25000 [==============================] - 3s 101us/step - loss: 0.2553 - acc: 0.8964 - val_loss: 0.3368 - val_acc: 0.8548\n"
     ]
    },
    {
     "data": {
      "text/plain": [
       "<keras.callbacks.History at 0x7fef7cece908>"
      ]
     },
     "execution_count": 34,
     "metadata": {
      "tags": []
     },
     "output_type": "execute_result"
    }
   ],
   "source": [
    "# --- compile and fit the model\\n\"\n",
    "model.compile(loss='binary_crossentropy', optimizer='adam', metrics=['accuracy'])\n",
    "model.fit(X_train, y_train, epochs=10, batch_size=64, validation_data=(X_test, y_test))"
   ]
  },
  {
   "cell_type": "markdown",
   "metadata": {
    "colab_type": "text",
    "id": "uRP-h4Xr_HNJ"
   },
   "source": [
    "## Using the trained embedding to find equivalence between words\n",
    "\n",
    "Since the embedding is part of the models, we can look at the trained embedding matrix $E$ and use it to get the most similar words (according to the trained matrix $E$) in the dictionary.\n",
    "Use the weights of the ```Embedding``` layer to find the most similar words to ```great```. We will use an Euclidean distance for that.\n",
    "- Retrieve the weights of the ```Embedding layer```\n",
    "- Get the position of ```great``` in the dictionary\n",
    "- Get the word-embedding of ```great```\n",
    "- Find (using Euclidean distance), the closest embedded-words to ```great```"
   ]
  },
  {
   "cell_type": "code",
   "execution_count": 0,
   "metadata": {
    "colab": {},
    "colab_type": "code",
    "id": "ISOtzXDD1E50"
   },
   "outputs": [],
   "source": [
    "def closest(E,pos):\n",
    "  distance = {}\n",
    "  v = E[pos,:]\n",
    "  for i in range(E.shape[0]):\n",
    "    try :\n",
    "      d = np.linalg.norm(E[i,:]-v)\n",
    "      \n",
    "      distance[id_to_word[i]] =  d \n",
    "    except : next \n",
    "  return sorted(distance.items(), key=operator.itemgetter(1))"
   ]
  },
  {
   "cell_type": "code",
   "execution_count": 0,
   "metadata": {
    "colab": {
     "base_uri": "https://localhost:8080/",
     "height": 261
    },
    "colab_type": "code",
    "executionInfo": {
     "elapsed": 32818,
     "status": "ok",
     "timestamp": 1571871763241,
     "user": {
      "displayName": "Ghribi Saif eddine",
      "photoUrl": "https://lh3.googleusercontent.com/a-/AAuE7mD7z26Oe5-lZzCboJXvkeojSIcJPcak5jPoWo3HVg=s64",
      "userId": "17019941870058284400"
     },
     "user_tz": -120
    },
    "id": "7xMubRqJ_HNJ",
    "outputId": "07382e86-ea9f-4f86-e10c-ddc4a9358006"
   },
   "outputs": [
    {
     "name": "stdout",
     "output_type": "stream",
     "text": [
      "Top 1: favorites ; d=0.2516524\n",
      "Top 2: rare ; d=0.25734025\n",
      "Top 3: delight ; d=0.26547986\n",
      "Top 4: fantastic ; d=0.26912844\n",
      "Top 5: friendship ; d=0.26920828\n",
      "Top 6: enjoyable ; d=0.2736538\n",
      "Top 7: enjoyed ; d=0.284215\n",
      "Top 8: outstanding ; d=0.28874174\n",
      "Top 9: brilliant ; d=0.30071208\n",
      "Top 10: unexpected ; d=0.3405104\n",
      "Top 11: gem ; d=0.36599275\n",
      "Top 12: greatest ; d=0.3719765\n",
      "Top 13: perfection ; d=0.38077575\n",
      "Top 14: incredible ; d=0.4260493\n",
      "Top 15: masterful ; d=0.43582785\n"
     ]
    }
   ],
   "source": [
    "if student:\n",
    "    # --- START CODE HERE (04)\n",
    "    #retrieve the weights \n",
    "\n",
    "    E = model.layers[1].get_weights()[0]\n",
    "\n",
    "    #Get the position of great in the dictionary\n",
    "    great_pos = word_to_id[\"great\"]\n",
    "\n",
    "    #Get the word-embedding of great\n",
    "    embedding_great = E[great_pos,:]\n",
    "\n",
    "    #Find (using Euclidean distance), the closest embedded-words to great\n",
    "    closest_to_great = closest (E,great_pos)\n",
    "    # N : top N closest words\n",
    "    N = 15 \n",
    "    for i in range(1,N+1):\n",
    "      print (\"Top \"+ str(i)+ \": \"  + str(closest_to_great[i][0]) +  \" ; d=\" +  str(closest_to_great[i][1])  )\n",
    "    # --- END CODE HERE\n"
   ]
  },
  {
   "cell_type": "markdown",
   "metadata": {
    "colab_type": "text",
    "id": "zK9e5Eo1Ks2a"
   },
   "source": [
    "# Second model\n",
    "\n",
    "In the second model, we will replace\n",
    "- the average over the sequence of the obtained embedding\n",
    "- by a RNN layer (more precisely an ```LSTM```) in a Many-To-One configuration with $n_a=100$\n",
    "\n",
    "We will code this model \n",
    "- First, using the Sequential API of keras (https://keras.io/models/sequential/)\n",
    "- Secondly, using the Functional API of keras (https://keras.io/getting-started/functional-api-guide/)\n",
    "\n"
   ]
  },
  {
   "cell_type": "code",
   "execution_count": 0,
   "metadata": {
    "colab": {},
    "colab_type": "code",
    "id": "rwoXuOqqVDOy"
   },
   "outputs": [],
   "source": [
    "K.clear_session()"
   ]
  },
  {
   "cell_type": "code",
   "execution_count": 0,
   "metadata": {
    "colab": {
     "base_uri": "https://localhost:8080/",
     "height": 293
    },
    "colab_type": "code",
    "executionInfo": {
     "elapsed": 33461,
     "status": "ok",
     "timestamp": 1571871763938,
     "user": {
      "displayName": "Ghribi Saif eddine",
      "photoUrl": "https://lh3.googleusercontent.com/a-/AAuE7mD7z26Oe5-lZzCboJXvkeojSIcJPcak5jPoWo3HVg=s64",
      "userId": "17019941870058284400"
     },
     "user_tz": -120
    },
    "id": "7dl-CSMKoViX",
    "outputId": "d401595a-af43-482a-cc7a-6ec3f1144f71"
   },
   "outputs": [
    {
     "name": "stdout",
     "output_type": "stream",
     "text": [
      "Model: \"model_1\"\n",
      "_________________________________________________________________\n",
      "Layer (type)                 Output Shape              Param #   \n",
      "=================================================================\n",
      "Input (InputLayer)           (None, 100)               0         \n",
      "_________________________________________________________________\n",
      "Embedding_layer (Embedding)  (None, 100, 32)           160000    \n",
      "_________________________________________________________________\n",
      "lstm_2 (LSTM)                (None, 100)               53200     \n",
      "_________________________________________________________________\n",
      "dense_2 (Dense)              (None, 1)                 101       \n",
      "=================================================================\n",
      "Total params: 213,301\n",
      "Trainable params: 213,301\n",
      "Non-trainable params: 0\n",
      "_________________________________________________________________\n",
      "None\n"
     ]
    }
   ],
   "source": [
    "# --- create the model\n",
    "\n",
    "if student:\n",
    "    # --- START CODE HERE (05)\n",
    "    # --- Using the Sequential API\n",
    "    model = Sequential()\n",
    "    model.add(Embedding(top_words,embedding_vector_length))\n",
    "    model.add(LSTM(units=100 ))\n",
    "    model.add(Dense(1, input_dim=X_train.shape[0], activation='sigmoid'))\n",
    "    # --- END CODE HERE\n",
    "    \n",
    "    # --- START CODE HERE (06)\n",
    "    # --- Using the Functional API\n",
    "    X_input = Input( shape = (max_review_length,) , name='Input' )\n",
    "    X  = Embedding  (top_words,embedding_vector_length , name =\"Embedding_layer\")( X_input )\n",
    "    X = LSTM(units = 100) (X)\n",
    "    X_output = Dense(1, input_dim=X_train.shape[0], activation='sigmoid')(X)\n",
    "    model = Model(inputs = X_input , outputs = X_output )\n",
    "    # --- END CODE HERE\n",
    "   \n",
    "\n",
    "\n",
    "print(model.summary())"
   ]
  },
  {
   "cell_type": "code",
   "execution_count": 0,
   "metadata": {
    "colab": {
     "base_uri": "https://localhost:8080/",
     "height": 147
    },
    "colab_type": "code",
    "executionInfo": {
     "elapsed": 352482,
     "status": "ok",
     "timestamp": 1571872082987,
     "user": {
      "displayName": "Ghribi Saif eddine",
      "photoUrl": "https://lh3.googleusercontent.com/a-/AAuE7mD7z26Oe5-lZzCboJXvkeojSIcJPcak5jPoWo3HVg=s64",
      "userId": "17019941870058284400"
     },
     "user_tz": -120
    },
    "id": "-bp7PzX7oXtB",
    "outputId": "bba00154-53f2-4130-c3c9-ae4652ebfe6d",
    "scrolled": true
   },
   "outputs": [
    {
     "name": "stdout",
     "output_type": "stream",
     "text": [
      "Train on 25000 samples, validate on 25000 samples\n",
      "Epoch 1/3\n",
      "25000/25000 [==============================] - 107s 4ms/step - loss: 0.4744 - acc: 0.7576 - val_loss: 0.3474 - val_acc: 0.8470\n",
      "Epoch 2/3\n",
      "25000/25000 [==============================] - 106s 4ms/step - loss: 0.3099 - acc: 0.8703 - val_loss: 0.3513 - val_acc: 0.8439\n",
      "Epoch 3/3\n",
      "25000/25000 [==============================] - 105s 4ms/step - loss: 0.2649 - acc: 0.8923 - val_loss: 0.3521 - val_acc: 0.8476\n"
     ]
    },
    {
     "data": {
      "text/plain": [
       "<keras.callbacks.History at 0x7fef7bbd3f60>"
      ]
     },
     "execution_count": 39,
     "metadata": {
      "tags": []
     },
     "output_type": "execute_result"
    }
   ],
   "source": [
    "# --- compile and fit the model\n",
    "model.compile(loss='binary_crossentropy', optimizer='adam', metrics=['accuracy'])\n",
    "model.fit(X_train, y_train, epochs=3, batch_size=64, validation_data=(X_test, y_test))"
   ]
  },
  {
   "cell_type": "markdown",
   "metadata": {
    "colab_type": "text",
    "id": "F1LN_fjMWBHJ"
   },
   "source": [
    "## Results\n",
    "\n",
    "After only 3 epochs, you should obtain an accuracy around 88% for the test data."
   ]
  },
  {
   "cell_type": "code",
   "execution_count": 0,
   "metadata": {
    "colab": {
     "base_uri": "https://localhost:8080/",
     "height": 33
    },
    "colab_type": "code",
    "executionInfo": {
     "elapsed": 406545,
     "status": "ok",
     "timestamp": 1571872137115,
     "user": {
      "displayName": "Ghribi Saif eddine",
      "photoUrl": "https://lh3.googleusercontent.com/a-/AAuE7mD7z26Oe5-lZzCboJXvkeojSIcJPcak5jPoWo3HVg=s64",
      "userId": "17019941870058284400"
     },
     "user_tz": -120
    },
    "id": "RlMEKRbzoavm",
    "outputId": "69413a33-a991-421d-fe06-01a915c9f87c"
   },
   "outputs": [
    {
     "name": "stdout",
     "output_type": "stream",
     "text": [
      "Accuracy: 84.76%\n"
     ]
    }
   ],
   "source": [
    "# --- Final evaluation of the model\n",
    "scores = model.evaluate(X_test, y_test, verbose=0)\n",
    "print(\"Accuracy: %.2f%%\" % (scores[1]*100)) "
   ]
  },
  {
   "cell_type": "markdown",
   "metadata": {
    "colab_type": "text",
    "id": "LVK5sGgF_HNX"
   },
   "source": [
    "# Evaluation\n",
    "\n",
    "To evaluate the work, you should rate the code for \n",
    "- 1) Data Pre-Processing (01)\n",
    "- 2) First model using the Sequential API (02)\n",
    "- 3) First model using the Functional API (03)\n",
    "- 4) Find equivalence between words (04)\n",
    "- 5) Second model using the Sequential API (05)\n",
    "- 6) Second model using the Functional API (06)\n"
   ]
  },
  {
   "cell_type": "code",
   "execution_count": 0,
   "metadata": {
    "colab": {},
    "colab_type": "code",
    "id": "NHUP4IA-_HNY"
   },
   "outputs": [],
   "source": []
  }
 ],
 "metadata": {
  "accelerator": "GPU",
  "colab": {
   "collapsed_sections": [],
   "name": "20191010_DL1_20192020_Lab_keras_imdb_students.ipynb",
   "provenance": []
  },
  "kernelspec": {
   "display_name": "Python 3",
   "language": "python",
   "name": "python3"
  },
  "language_info": {
   "codemirror_mode": {
    "name": "ipython",
    "version": 3
   },
   "file_extension": ".py",
   "mimetype": "text/x-python",
   "name": "python",
   "nbconvert_exporter": "python",
   "pygments_lexer": "ipython3",
   "version": "3.7.4"
  },
  "toc": {
   "base_numbering": 1,
   "nav_menu": {},
   "number_sections": true,
   "sideBar": true,
   "skip_h1_title": false,
   "title_cell": "Table of Contents",
   "title_sidebar": "Contents",
   "toc_cell": false,
   "toc_position": {},
   "toc_section_display": true,
   "toc_window_display": true
  }
 },
 "nbformat": 4,
 "nbformat_minor": 1
}
